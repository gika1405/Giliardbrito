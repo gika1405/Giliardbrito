{
 "cells": [
  {
   "cell_type": "markdown",
   "id": "3cf2bd1e",
   "metadata": {},
   "source": [
    "<h1>Table of Contents<span class=\"tocSkip\"></span></h1>\n",
    "<div class=\"toc\"><ul class=\"toc-item\"></ul></div>"
   ]
  },
  {
   "cell_type": "markdown",
   "id": "6a5a6e0d",
   "metadata": {},
   "source": [
    "<h1>Table of Contents<span class=\"tocSkip\"></span></h1>\n",
    "<div class=\"toc\"><ul class=\"toc-item\"></ul></div>"
   ]
  },
  {
   "cell_type": "markdown",
   "id": "90620588",
   "metadata": {},
   "source": [
    "<h1>Table of Contents<span class=\"tocSkip\"></span></h1>\n",
    "<div class=\"toc\"><ul class=\"toc-item\"></ul></div>"
   ]
  },
  {
   "cell_type": "code",
   "execution_count": null,
   "id": "1db92e98",
   "metadata": {},
   "outputs": [],
   "source": [
    "# default_exp exec.normalize_audio"
   ]
  },
  {
   "cell_type": "code",
   "execution_count": null,
   "id": "9ebd8d43",
   "metadata": {},
   "outputs": [],
   "source": [
    "# export\n",
    "\n",
    "import argparse\n",
    "import os\n",
    "import sys\n",
    "\n",
    "from uberduck_ml_dev.utils.audio import normalize_audio, trim_audio\n",
    "\n",
    "\n",
    "def run(dirname, backup, top_db):\n",
    "    \"\"\"Normalize all the audio files in a directory.\"\"\"\n",
    "    old_dirname = dirname\n",
    "    if backup:\n",
    "        old_dirname = f\"{os.path.normpath(old_dirname)}_backup\"\n",
    "        os.rename(dirname, old_dirname)\n",
    "    for dirpath, _, filenames in os.walk(old_dirname):\n",
    "        rel_path = os.path.relpath(dirpath, old_dirname)\n",
    "        for filename in filenames:\n",
    "            if not filename.endswith(\".wav\"):\n",
    "                continue\n",
    "            old_path = os.path.join(dirpath, filename)\n",
    "            new_path = os.path.join(dirname, rel_path, filename)\n",
    "            if not os.path.exists(os.path.join(dirname, rel_path)):\n",
    "                os.makedirs(os.path.join(dirname, rel_path))\n",
    "            trim_audio(old_path, new_path, top_db)\n",
    "\n",
    "\n",
    "def parse_args(args):\n",
    "    parser = argparse.ArgumentParser()\n",
    "    parser.add_argument(\n",
    "        \"-d\",\n",
    "        \"--dirname\",\n",
    "        help=\"Path to the directory which contains audio files to normalize.\",\n",
    "    )\n",
    "    parser.add_argument(\"--backup\", dest=\"backup\", action=\"store_true\")\n",
    "    parser.add_argument(\"--no-backup\", dest=\"backup\", action=\"store_false\")\n",
    "    parser.add_argument(\"--top-db\", type=int)\n",
    "    parser.set_defaults(backup=True, top_db=20)\n",
    "    return parser.parse_args(args)"
   ]
  },
  {
   "cell_type": "code",
   "execution_count": null,
   "id": "12beac6a",
   "metadata": {},
   "outputs": [],
   "source": [
    "# export\n",
    "\n",
    "try:\n",
    "    from nbdev.imports import IN_NOTEBOOK\n",
    "except:\n",
    "    IN_NOTEBOOK = False\n",
    "\n",
    "if __name__ == \"__main__\" and not IN_NOTEBOOK:\n",
    "    args = parse_args(sys.argv[1:])\n",
    "    run(args.dirname, args.backup, args.top_db)"
   ]
  },
  {
   "cell_type": "code",
   "execution_count": null,
   "id": "1d2e120d",
   "metadata": {},
   "outputs": [],
   "source": []
  },
  {
   "cell_type": "code",
   "execution_count": null,
   "id": "ea26063f",
   "metadata": {},
   "outputs": [],
   "source": []
  },
  {
   "cell_type": "code",
   "execution_count": null,
   "id": "5340b3d7",
   "metadata": {},
   "outputs": [],
   "source": []
  }
 ],
 "metadata": {
  "kernelspec": {
   "display_name": "Python 3",
   "language": "python",
   "name": "python3"
  }
 },
 "nbformat": 4,
 "nbformat_minor": 5
}
