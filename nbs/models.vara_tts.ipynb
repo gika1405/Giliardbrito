{
 "cells": [
  {
   "cell_type": "markdown",
   "id": "fe31104d",
   "metadata": {},
   "source": [
    "<h1>Table of Contents<span class=\"tocSkip\"></span></h1>\n",
    "<div class=\"toc\"><ul class=\"toc-item\"></ul></div>"
   ]
  },
  {
   "cell_type": "code",
   "execution_count": null,
   "id": "61f026d5",
   "metadata": {},
   "outputs": [],
   "source": [
    "# default_exp models.vara_tts"
   ]
  },
  {
   "cell_type": "code",
   "execution_count": null,
   "id": "5498626d",
   "metadata": {},
   "outputs": [],
   "source": []
  }
 ],
 "metadata": {
  "kernelspec": {
   "display_name": "Python 3",
   "language": "python",
   "name": "python3"
  }
 },
 "nbformat": 4,
 "nbformat_minor": 5
}
